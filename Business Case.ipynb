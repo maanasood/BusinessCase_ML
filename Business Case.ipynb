{
 "cells": [
  {
   "cell_type": "code",
   "execution_count": 234,
   "id": "535e6902",
   "metadata": {},
   "outputs": [],
   "source": [
    "import numpy as np\n",
    "from sklearn import preprocessing"
   ]
  },
  {
   "cell_type": "markdown",
   "id": "364318c2",
   "metadata": {},
   "source": [
    "# DATA PREPROCESSING"
   ]
  },
  {
   "cell_type": "markdown",
   "id": "a1ae8571",
   "metadata": {},
   "source": [
    "## Load the data"
   ]
  },
  {
   "cell_type": "code",
   "execution_count": 250,
   "id": "e3d779f8",
   "metadata": {},
   "outputs": [],
   "source": [
    "raw_data=np.loadtxt('Audiobooks_data.csv',delimiter=',')\n",
    "unscaled_inputs=raw_data[:,1:-1]\n",
    "targets_all=raw_data[:,-1]"
   ]
  },
  {
   "cell_type": "markdown",
   "id": "b835befa",
   "metadata": {},
   "source": [
    "## Shuffle the data"
   ]
  },
  {
   "cell_type": "code",
   "execution_count": 251,
   "id": "9689e2a7",
   "metadata": {},
   "outputs": [],
   "source": [
    "shuffled_indices=np.arange(unscaled_inputs.shape[0])\n",
    "np.random.shuffle(shuffled_indices)\n",
    "\n",
    "shuffled_unscaled_inputs=unscaled_inputs[shuffled_indices]\n",
    "shuffled_unscaled_targets=targets_all[shuffled_indices]"
   ]
  },
  {
   "cell_type": "markdown",
   "id": "64cec805",
   "metadata": {},
   "source": [
    "## Balance the dataset"
   ]
  },
  {
   "cell_type": "code",
   "execution_count": 252,
   "id": "238ad9db",
   "metadata": {},
   "outputs": [],
   "source": [
    "number_ones=int(np.sum(shuffled_unscaled_targets))\n",
    "zero_targets_counter=0\n",
    "indices_to_remove=[]\n",
    "\n",
    "for i in range(shuffled_unscaled_targets.shape[0]):\n",
    "    if targets_all[i]==0:\n",
    "        zero_targets_counter+=1\n",
    "        if zero_targets_counter>number_ones:\n",
    "            indices_to_remove.append(i)"
   ]
  },
  {
   "cell_type": "code",
   "execution_count": 253,
   "id": "2e41ac75",
   "metadata": {},
   "outputs": [],
   "source": [
    "unscaled_inputs_equal_priors=np.delete(shuffled_unscaled_inputs,indices_to_remove,axis=0)\n",
    "targets_all_equal_priors=np.delete(shuffled_unscaled_targets,indices_to_remove,axis=0)"
   ]
  },
  {
   "cell_type": "markdown",
   "id": "b32dc3f7",
   "metadata": {},
   "source": [
    "## Standardize the inputs"
   ]
  },
  {
   "cell_type": "code",
   "execution_count": 254,
   "id": "6e488317",
   "metadata": {},
   "outputs": [],
   "source": [
    "scaled_inputs=preprocessing.scale(unscaled_inputs_equal_priors)"
   ]
  },
  {
   "cell_type": "markdown",
   "id": "26e5900a",
   "metadata": {},
   "source": [
    "## Shuffle the data"
   ]
  },
  {
   "cell_type": "code",
   "execution_count": 255,
   "id": "678df954",
   "metadata": {},
   "outputs": [],
   "source": [
    "shuffled_indices=np.arange(scaled_inputs.shape[0])\n",
    "np.random.shuffle(shuffled_indices)\n",
    "\n",
    "shuffled_inputs=scaled_inputs[shuffled_indices]\n",
    "shuffled_targets=targets_all_equal_priors[shuffled_indices]"
   ]
  },
  {
   "cell_type": "markdown",
   "id": "5ddc22f3",
   "metadata": {},
   "source": [
    "## Splitting the data"
   ]
  },
  {
   "cell_type": "code",
   "execution_count": 256,
   "id": "9b7c1115",
   "metadata": {},
   "outputs": [],
   "source": [
    "samples_count=shuffled_inputs.shape[0]\n",
    "\n",
    "train_samples_count=int(0.8*samples_count)\n",
    "validation_samples_count=int(0.1*samples_count)\n",
    "test_samples_count=int(0.1*samples_count)\n",
    "\n",
    "train_inputs=shuffled_inputs[:train_samples_count]\n",
    "train_targets=shuffled_targets[:train_samples_count]\n",
    "\n",
    "validation_inputs=shuffled_inputs[train_samples_count:train_samples_count+validation_samples_count]\n",
    "validation_targets=shuffled_targets[train_samples_count:train_samples_count+validation_samples_count]\n",
    "\n",
    "test_inputs=shuffled_inputs[train_samples_count+validation_samples_count:]\n",
    "test_targets=shuffled_targets[train_samples_count+validation_samples_count:]"
   ]
  },
  {
   "cell_type": "code",
   "execution_count": 257,
   "id": "96f682bc",
   "metadata": {},
   "outputs": [
    {
     "name": "stdout",
     "output_type": "stream",
     "text": [
      "557 3579\n"
     ]
    }
   ],
   "source": [
    "print(int(np.sum(train_targets)),train_samples_count)"
   ]
  },
  {
   "cell_type": "markdown",
   "id": "e23f7b63",
   "metadata": {},
   "source": [
    "## Save the datasets as .npz"
   ]
  },
  {
   "cell_type": "code",
   "execution_count": 258,
   "id": "4f050629",
   "metadata": {},
   "outputs": [],
   "source": [
    "np.savez('Audiobook_data_train',inputs=train_inputs,targets=train_targets)\n",
    "np.savez('Audiobook_data_validated',inputs=validation_inputs,targets=validation_targets)\n",
    "np.savez('Audiobook_data_test',inputs=test_inputs,targets=test_targets)"
   ]
  },
  {
   "cell_type": "markdown",
   "id": "2ee37c93",
   "metadata": {},
   "source": [
    "# DEEP LEARNING"
   ]
  },
  {
   "cell_type": "code",
   "execution_count": 259,
   "id": "f493d4dc",
   "metadata": {},
   "outputs": [],
   "source": [
    "import numpy as np\n",
    "import tensorflow as tf"
   ]
  },
  {
   "cell_type": "code",
   "execution_count": 260,
   "id": "b92c6d5c",
   "metadata": {},
   "outputs": [],
   "source": [
    "npz=np.load('Audiobook_data_train.npz')\n",
    "train_inputs=npz['inputs'].astype(float)\n",
    "train_targets=npz['targets'].astype(int)\n",
    "\n",
    "npz=np.load('Audiobook_data_validated.npz')\n",
    "validated_inputs=npz['inputs'].astype(float)\n",
    "validated_targets=npz['targets'].astype(int)\n",
    "\n",
    "npz=np.load('Audiobook_data_test.npz')\n",
    "test_inputs=npz['inputs'].astype(float)\n",
    "test_targets=npz['targets'].astype(int)"
   ]
  },
  {
   "cell_type": "code",
   "execution_count": 261,
   "id": "5c860dbc",
   "metadata": {},
   "outputs": [],
   "source": [
    "input_size=10\n",
    "output_size=2\n",
    "hidden_layer_size=50"
   ]
  },
  {
   "cell_type": "code",
   "execution_count": 262,
   "id": "596f87c0",
   "metadata": {},
   "outputs": [],
   "source": [
    "model=tf.keras.Sequential([\n",
    "                                                tf.keras.layers.Dense(hidden_layer_size,activation='relu'),   \n",
    "                                                tf.keras.layers.Dense(hidden_layer_size,activation='relu'),                                                \n",
    "                                                tf.keras.layers.Dense(output_size,activation='softmax')\n",
    "                                              ])\n",
    "\n",
    "model.compile(optimizer='adam',loss='sparse_categorical_crossentropy',metrics=[tf.keras.metrics.SparseCategoricalAccuracy()])\n"
   ]
  },
  {
   "cell_type": "code",
   "execution_count": 263,
   "id": "c624f319",
   "metadata": {},
   "outputs": [
    {
     "name": "stdout",
     "output_type": "stream",
     "text": [
      "Epoch 1/100\n",
      "36/36 - 1s - loss: 0.5146 - sparse_categorical_accuracy: 0.7944 - val_loss: 0.4158 - val_sparse_categorical_accuracy: 0.8412 - 724ms/epoch - 20ms/step\n",
      "Epoch 2/100\n",
      "36/36 - 0s - loss: 0.3488 - sparse_categorical_accuracy: 0.8829 - val_loss: 0.3502 - val_sparse_categorical_accuracy: 0.8770 - 56ms/epoch - 2ms/step\n",
      "Epoch 3/100\n",
      "36/36 - 0s - loss: 0.3019 - sparse_categorical_accuracy: 0.8961 - val_loss: 0.3237 - val_sparse_categorical_accuracy: 0.8814 - 52ms/epoch - 1ms/step\n",
      "Epoch 4/100\n",
      "36/36 - 0s - loss: 0.2819 - sparse_categorical_accuracy: 0.9022 - val_loss: 0.3078 - val_sparse_categorical_accuracy: 0.8881 - 52ms/epoch - 1ms/step\n",
      "Epoch 5/100\n",
      "36/36 - 0s - loss: 0.2699 - sparse_categorical_accuracy: 0.9036 - val_loss: 0.2953 - val_sparse_categorical_accuracy: 0.8859 - 52ms/epoch - 1ms/step\n",
      "Epoch 6/100\n",
      "36/36 - 0s - loss: 0.2624 - sparse_categorical_accuracy: 0.9050 - val_loss: 0.2852 - val_sparse_categorical_accuracy: 0.8881 - 56ms/epoch - 2ms/step\n",
      "Epoch 7/100\n",
      "36/36 - 0s - loss: 0.2576 - sparse_categorical_accuracy: 0.9053 - val_loss: 0.2929 - val_sparse_categorical_accuracy: 0.8926 - 55ms/epoch - 2ms/step\n",
      "Epoch 8/100\n",
      "36/36 - 0s - loss: 0.2521 - sparse_categorical_accuracy: 0.9084 - val_loss: 0.2751 - val_sparse_categorical_accuracy: 0.8904 - 52ms/epoch - 1ms/step\n",
      "Epoch 9/100\n",
      "36/36 - 0s - loss: 0.2471 - sparse_categorical_accuracy: 0.9081 - val_loss: 0.2696 - val_sparse_categorical_accuracy: 0.8949 - 55ms/epoch - 2ms/step\n",
      "Epoch 10/100\n",
      "36/36 - 0s - loss: 0.2482 - sparse_categorical_accuracy: 0.9075 - val_loss: 0.2669 - val_sparse_categorical_accuracy: 0.8881 - 54ms/epoch - 2ms/step\n",
      "Epoch 11/100\n",
      "36/36 - 0s - loss: 0.2448 - sparse_categorical_accuracy: 0.9081 - val_loss: 0.2663 - val_sparse_categorical_accuracy: 0.8926 - 52ms/epoch - 1ms/step\n",
      "Epoch 12/100\n",
      "36/36 - 0s - loss: 0.2410 - sparse_categorical_accuracy: 0.9089 - val_loss: 0.2649 - val_sparse_categorical_accuracy: 0.8926 - 57ms/epoch - 2ms/step\n",
      "Epoch 13/100\n",
      "36/36 - 0s - loss: 0.2378 - sparse_categorical_accuracy: 0.9086 - val_loss: 0.2682 - val_sparse_categorical_accuracy: 0.8926 - 51ms/epoch - 1ms/step\n",
      "Epoch 14/100\n",
      "36/36 - 0s - loss: 0.2377 - sparse_categorical_accuracy: 0.9086 - val_loss: 0.2567 - val_sparse_categorical_accuracy: 0.8949 - 51ms/epoch - 1ms/step\n",
      "Epoch 15/100\n",
      "36/36 - 0s - loss: 0.2349 - sparse_categorical_accuracy: 0.9103 - val_loss: 0.2673 - val_sparse_categorical_accuracy: 0.8926 - 53ms/epoch - 1ms/step\n",
      "Epoch 16/100\n",
      "36/36 - 0s - loss: 0.2341 - sparse_categorical_accuracy: 0.9095 - val_loss: 0.2646 - val_sparse_categorical_accuracy: 0.8949 - 61ms/epoch - 2ms/step\n"
     ]
    },
    {
     "data": {
      "text/plain": [
       "<keras.callbacks.History at 0x1bf4516ac70>"
      ]
     },
     "execution_count": 263,
     "metadata": {},
     "output_type": "execute_result"
    }
   ],
   "source": [
    "early_stopping=tf.keras.callbacks.EarlyStopping(patience=2)\n",
    "\n",
    "model.fit(train_inputs,train_targets,batch_size=100,epochs=100,callbacks=[early_stopping],validation_data=(validated_inputs,validated_targets),verbose=2)"
   ]
  },
  {
   "cell_type": "markdown",
   "id": "56fdda47",
   "metadata": {},
   "source": [
    "# TESTING"
   ]
  },
  {
   "cell_type": "code",
   "execution_count": 264,
   "id": "20af8f00",
   "metadata": {},
   "outputs": [
    {
     "name": "stdout",
     "output_type": "stream",
     "text": [
      "14/14 [==============================] - 0s 1ms/step - loss: 0.2383 - sparse_categorical_accuracy: 0.9018\n"
     ]
    },
    {
     "data": {
      "text/plain": [
       "[0.23834264278411865, 0.9017857313156128]"
      ]
     },
     "execution_count": 264,
     "metadata": {},
     "output_type": "execute_result"
    }
   ],
   "source": [
    "model.evaluate(test_inputs,test_targets)"
   ]
  }
 ],
 "metadata": {
  "kernelspec": {
   "display_name": "Python 3 (ipykernel)",
   "language": "python",
   "name": "python3"
  },
  "language_info": {
   "codemirror_mode": {
    "name": "ipython",
    "version": 3
   },
   "file_extension": ".py",
   "mimetype": "text/x-python",
   "name": "python",
   "nbconvert_exporter": "python",
   "pygments_lexer": "ipython3",
   "version": "3.9.12"
  }
 },
 "nbformat": 4,
 "nbformat_minor": 5
}
